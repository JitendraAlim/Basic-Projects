{
  "nbformat": 4,
  "nbformat_minor": 0,
  "metadata": {
    "colab": {
      "name": "Shrew Weight Analysis.ipynb",
      "provenance": [],
      "authorship_tag": "ABX9TyPwN7smOq40vZVCw+yRWP76",
      "include_colab_link": true
    },
    "kernelspec": {
      "name": "python3",
      "display_name": "Python 3"
    }
  },
  "cells": [
    {
      "cell_type": "markdown",
      "metadata": {
        "id": "view-in-github",
        "colab_type": "text"
      },
      "source": [
        "<a href=\"https://colab.research.google.com/github/JitendraAlim/Shrew-Weight-Analysis/blob/master/Shrew_Weight_Analysis.ipynb\" target=\"_parent\"><img src=\"https://colab.research.google.com/assets/colab-badge.svg\" alt=\"Open In Colab\"/></a>"
      ]
    },
    {
      "cell_type": "markdown",
      "metadata": {
        "id": "VzcwMBc2_F-S",
        "colab_type": "text"
      },
      "source": [
        "# Shrew Weight Analysis\n",
        "\n",
        "![Shrew](https://news.wttw.com/sites/default/files/styles/full/public/article/image-non-gallery/Shrew%201%20new_0515.jpg?itok=feSJS7JO \"Shrew\")\n",
        "\n",
        "***\n",
        "# About\n",
        "Data on greater white-toothed shrews (**Crocidura Russula**) which were caught during two trapping periods in gardens in and around a village in the Swiss Alps. The data were collected by M.Sc. students from the University of Lausanne (Switzerland). The data in the file appear as they were entered in the field. Missing data appear as NA. Pregnant female shrews have been removed from the data set.\n",
        "\n",
        "**Task**:\n",
        "\n",
        "1. Test whether there is a difference in weight between male and female greater white toothed\n",
        "shrews (i.e. do they show sexual dimorphism in body weight).\n",
        "2. Do juvenile shrews differ from adult shrews in their pattern of sexual dimorphism in terms of body weight?\n",
        "\n",
        "***\n",
        "# Importing the Shrew Weight data"
      ]
    },
    {
      "cell_type": "code",
      "metadata": {
        "id": "lCEKSnOOBTDN",
        "colab_type": "code",
        "colab": {
          "base_uri": "https://localhost:8080/",
          "height": 197
        },
        "outputId": "e08ce74d-1ce5-416a-eb78-b702dd10cd71"
      },
      "source": [
        "# Importing Pandas for Data Management\n",
        "import pandas as pd\n",
        "\n",
        "df = pd.read_csv(\"https://raw.githubusercontent.com/JitendraAlim/Shrew-Weight-Analysis/master/Shrew%20Weights.csv\")\n",
        "df.head()"
      ],
      "execution_count": 1,
      "outputs": [
        {
          "output_type": "execute_result",
          "data": {
            "text/html": [
              "<div>\n",
              "<style scoped>\n",
              "    .dataframe tbody tr th:only-of-type {\n",
              "        vertical-align: middle;\n",
              "    }\n",
              "\n",
              "    .dataframe tbody tr th {\n",
              "        vertical-align: top;\n",
              "    }\n",
              "\n",
              "    .dataframe thead th {\n",
              "        text-align: right;\n",
              "    }\n",
              "</style>\n",
              "<table border=\"1\" class=\"dataframe\">\n",
              "  <thead>\n",
              "    <tr style=\"text-align: right;\">\n",
              "      <th></th>\n",
              "      <th>Session</th>\n",
              "      <th>Sex</th>\n",
              "      <th>Class</th>\n",
              "      <th>Weight</th>\n",
              "    </tr>\n",
              "  </thead>\n",
              "  <tbody>\n",
              "    <tr>\n",
              "      <th>0</th>\n",
              "      <td>2</td>\n",
              "      <td>male</td>\n",
              "      <td>adult</td>\n",
              "      <td>13.0</td>\n",
              "    </tr>\n",
              "    <tr>\n",
              "      <th>1</th>\n",
              "      <td>1</td>\n",
              "      <td>M</td>\n",
              "      <td>ad/j</td>\n",
              "      <td>8.5</td>\n",
              "    </tr>\n",
              "    <tr>\n",
              "      <th>2</th>\n",
              "      <td>1</td>\n",
              "      <td>F</td>\n",
              "      <td>adult</td>\n",
              "      <td>11.5</td>\n",
              "    </tr>\n",
              "    <tr>\n",
              "      <th>3</th>\n",
              "      <td>1</td>\n",
              "      <td>M</td>\n",
              "      <td>adult</td>\n",
              "      <td>10.3</td>\n",
              "    </tr>\n",
              "    <tr>\n",
              "      <th>4</th>\n",
              "      <td>2</td>\n",
              "      <td>M</td>\n",
              "      <td>ad</td>\n",
              "      <td>13.5</td>\n",
              "    </tr>\n",
              "  </tbody>\n",
              "</table>\n",
              "</div>"
            ],
            "text/plain": [
              "   Session   Sex  Class  Weight\n",
              "0        2  male  adult    13.0\n",
              "1        1     M   ad/j     8.5\n",
              "2        1     F  adult    11.5\n",
              "3        1     M  adult    10.3\n",
              "4        2     M     ad    13.5"
            ]
          },
          "metadata": {
            "tags": []
          },
          "execution_count": 1
        }
      ]
    },
    {
      "cell_type": "markdown",
      "metadata": {
        "id": "SYeaaqHCB7ma",
        "colab_type": "text"
      },
      "source": [
        "***\n",
        "# Exploring the data"
      ]
    },
    {
      "cell_type": "code",
      "metadata": {
        "id": "achGrL8ZCIKb",
        "colab_type": "code",
        "colab": {
          "base_uri": "https://localhost:8080/",
          "height": 200
        },
        "outputId": "f449262e-e9a2-436b-9c3c-90ebdbed72c1"
      },
      "source": [
        "df.info()"
      ],
      "execution_count": 2,
      "outputs": [
        {
          "output_type": "stream",
          "text": [
            "<class 'pandas.core.frame.DataFrame'>\n",
            "RangeIndex: 811 entries, 0 to 810\n",
            "Data columns (total 4 columns):\n",
            " #   Column   Non-Null Count  Dtype  \n",
            "---  ------   --------------  -----  \n",
            " 0   Session  811 non-null    int64  \n",
            " 1   Sex      811 non-null    object \n",
            " 2   Class    809 non-null    object \n",
            " 3   Weight   797 non-null    float64\n",
            "dtypes: float64(1), int64(1), object(2)\n",
            "memory usage: 25.5+ KB\n"
          ],
          "name": "stdout"
        }
      ]
    },
    {
      "cell_type": "code",
      "metadata": {
        "id": "edpYaCwICL2J",
        "colab_type": "code",
        "colab": {
          "base_uri": "https://localhost:8080/",
          "height": 33
        },
        "outputId": "af9f760e-9347-4294-f145-7481671b823e"
      },
      "source": [
        "df.shape"
      ],
      "execution_count": 3,
      "outputs": [
        {
          "output_type": "execute_result",
          "data": {
            "text/plain": [
              "(811, 4)"
            ]
          },
          "metadata": {
            "tags": []
          },
          "execution_count": 3
        }
      ]
    },
    {
      "cell_type": "markdown",
      "metadata": {
        "id": "qDXZJyFsCOgW",
        "colab_type": "text"
      },
      "source": [
        "There are 811 observations on shrews based on 4 variables"
      ]
    }
  ]
}